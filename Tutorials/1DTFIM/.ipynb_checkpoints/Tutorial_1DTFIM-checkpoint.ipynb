{
 "cells": [
  {
   "cell_type": "markdown",
   "metadata": {
    "colab_type": "text",
    "id": "64aq4ZKbZPdW"
   },
   "source": [
    "# Tutorial: Ground State of 1D Transverse-field Ferromagnetic Ising Model (TFIM) with RNN wavefunctions\n",
    "\n",
    "Code by **Mohamed Hibat Allah** and **Martin Ganahl**.\n",
    "\n"
   ]
  },
  {
   "cell_type": "markdown",
   "metadata": {
    "colab_type": "text",
    "id": "SM5KKhReRnHb"
   },
   "source": [
    "**This notebook is intended to help the reader to get familiarized with Exact Diagonalization (ED) and Positive Recurrent Neural Networks (pRNN) wavefunctions. Here, we just explore small system sizes for pedagogical purposes and to keep the running time very short.**\n",
    "\n",
    "\n",
    "Check if you specifying the right \"path\" below to the google colab notebook on Drive to make sure everything below is working properly\n",
    "\n",
    "Make sure also you use a GPU by going to \"Runtime/Change Runtime type\" in Google Colaboratory to get a speedup"
   ]
  },
  {
   "cell_type": "code",
   "execution_count": 1,
   "metadata": {
    "colab": {
     "base_uri": "https://localhost:8080/",
     "height": 36
    },
    "colab_type": "code",
    "executionInfo": {
     "elapsed": 1522,
     "status": "ok",
     "timestamp": 1581260390811,
     "user": {
      "displayName": "Mohamed Hibat Allah",
      "photoUrl": "https://lh4.googleusercontent.com/-NN_4cqAjH6U/AAAAAAAAAAI/AAAAAAAAA5s/M6vFCZPEjP0/s64/photo.jpg",
      "userId": "11447742370504927382"
     },
     "user_tz": 300
    },
    "id": "g_lu1pgdX0vr",
    "outputId": "cf7cfa3f-efbe-4e25-94f8-8fb2390f9b5b"
   },
   "outputs": [
    {
     "ename": "ModuleNotFoundError",
     "evalue": "No module named 'google'",
     "output_type": "error",
     "traceback": [
      "\u001b[0;31m---------------------------------------------------------------------------\u001b[0m",
      "\u001b[0;31mModuleNotFoundError\u001b[0m                       Traceback (most recent call last)",
      "\u001b[0;32m<ipython-input-1-9d1ddda3f367>\u001b[0m in \u001b[0;36m<module>\u001b[0;34m\u001b[0m\n\u001b[0;32m----> 1\u001b[0;31m \u001b[0;32mfrom\u001b[0m \u001b[0mgoogle\u001b[0m\u001b[0;34m.\u001b[0m\u001b[0mcolab\u001b[0m \u001b[0;32mimport\u001b[0m \u001b[0mdrive\u001b[0m\u001b[0;34m\u001b[0m\u001b[0;34m\u001b[0m\u001b[0m\n\u001b[0m\u001b[1;32m      2\u001b[0m \u001b[0mdrive\u001b[0m\u001b[0;34m.\u001b[0m\u001b[0mmount\u001b[0m\u001b[0;34m(\u001b[0m\u001b[0;34m'/content/gdrive/'\u001b[0m\u001b[0;34m)\u001b[0m\u001b[0;34m\u001b[0m\u001b[0;34m\u001b[0m\u001b[0m\n\u001b[1;32m      3\u001b[0m \u001b[0;32mimport\u001b[0m \u001b[0msys\u001b[0m\u001b[0;34m\u001b[0m\u001b[0;34m\u001b[0m\u001b[0m\n\u001b[1;32m      4\u001b[0m \u001b[0mpath\u001b[0m \u001b[0;34m=\u001b[0m \u001b[0;34m'gdrive/My Drive/RNNWavefunctions/RNNWavefunctions-master/1DTFIM'\u001b[0m\u001b[0;34m\u001b[0m\u001b[0;34m\u001b[0m\u001b[0m\n\u001b[1;32m      5\u001b[0m \u001b[0msys\u001b[0m\u001b[0;34m.\u001b[0m\u001b[0mpath\u001b[0m\u001b[0;34m.\u001b[0m\u001b[0mappend\u001b[0m\u001b[0;34m(\u001b[0m\u001b[0mpath\u001b[0m\u001b[0;34m)\u001b[0m\u001b[0;34m\u001b[0m\u001b[0;34m\u001b[0m\u001b[0m\n",
      "\u001b[0;31mModuleNotFoundError\u001b[0m: No module named 'google'"
     ]
    }
   ],
   "source": [
    "from google.colab import drive\n",
    "drive.mount('/content/gdrive/')\n",
    "import sys\n",
    "path = 'gdrive/My Drive/RNNWavefunctions/RNNWavefunctions-master/1DTFIM'\n",
    "sys.path.append(path)"
   ]
  },
  {
   "cell_type": "code",
   "execution_count": 2,
   "metadata": {
    "colab": {},
    "colab_type": "code",
    "id": "AR5TEw4sZrkm"
   },
   "outputs": [],
   "source": [
    "import numpy as np\n",
    "import matplotlib.pyplot as plt\n",
    "from matplotlib import rcParams\n",
    "\n",
    "rcParams['axes.labelsize']  = 20\n",
    "rcParams['font.serif']      = ['Computer Modern']\n",
    "rcParams['font.size']       = 10\n",
    "rcParams['legend.fontsize'] = 20\n",
    "rcParams['xtick.labelsize'] = 20\n",
    "rcParams['ytick.labelsize'] = 20"
   ]
  },
  {
   "cell_type": "markdown",
   "metadata": {
    "colab_type": "text",
    "id": "j4tkqj6qipmp"
   },
   "source": [
    "## **Calculating the ground state energy of 1DTFIM using Exact Diagonalization (ED)**"
   ]
  },
  {
   "cell_type": "markdown",
   "metadata": {
    "colab_type": "text",
    "id": "KzO3B4RWaXxA"
   },
   "source": [
    "Here, we attempt to calculate the ground state and the ground state energy of the 1D Transverse field Ising Model with Open Boundary Conditions using Exact diagonalization.\n",
    "\n",
    "The Hamiltonian is given as follows:\n",
    "\n",
    "$$\\hat{H}_{\\text{TFIM}} = - \\sum_{\\langle i,j \\rangle} \\hat{\\sigma}^{z}_i \\hat{\\sigma}^{z}_j - B_x \\sum_{i} \\hat{\\sigma}^{x}_i $$\n",
    "\n",
    "where ${\\bf \\sigma}_i$ are pauli matrices.  Here,\n",
    "$\\langle i,j \\rangle$ denote\n",
    "nearest neighbor pairs."
   ]
  },
  {
   "cell_type": "code",
   "execution_count": 3,
   "metadata": {
    "colab": {},
    "colab_type": "code",
    "id": "ssa4VPWUitU-"
   },
   "outputs": [],
   "source": [
    "def IsingMatrixElements(Jz,Bx,sigmap):\n",
    "    \"\"\"\n",
    "    computes the matrix element of the open Ising Hamiltonian for a given state sigmap\n",
    "    -----------------------------------------------------------------------------------\n",
    "    Parameters:\n",
    "    Jz: np.ndarray of shape (N), respectively, and dtype=float:\n",
    "                Ising parameters\n",
    "    sigmap:     np.ndarrray of dtype=int and shape (N)\n",
    "                spin-state, integer encoded (using 0 for down spin and 1 for up spin)\n",
    "                A sample of spins can be fed here.\n",
    "    Bx: Transvers magnetic field (N)\n",
    "    -----------------------------------------------------------------------------------            \n",
    "    Returns: 2-tuple of type (np.ndarray,np.ndarray)\n",
    "             sigmas:         np.ndarray of dtype=int and shape (?,N)\n",
    "                             the states for which there exist non-zero matrix elements for given sigmap\n",
    "             matrixelements: np.ndarray of dtype=float and shape (?)\n",
    "                             the non-zero matrix elements\n",
    "    \"\"\"\n",
    "    #the diagonal part is simply the sum of all Sz-Sz interactions\n",
    "    diag=0\n",
    "    \n",
    "    sigmas=[]\n",
    "    matrix_elements=[]\n",
    "    N = Jz.shape[0]\n",
    "    \n",
    "    for site in range(N-1):\n",
    "        if sigmap[site]==sigmap[site+1]: #if the two neighouring spins are the same (We use open Boundary Conditions)\n",
    "            diag-=Jz[site] #add a negative energy contribution (We use ferromagnetic couplings)\n",
    "        else:\n",
    "            diag+=Jz[site]\n",
    "            \n",
    "    matrix_elements.append(diag)\n",
    "    sigmas.append(sigmap)\n",
    "    \n",
    "    #off-diagonal part (For the transverse Ising Model)\n",
    "    for site in range(N):\n",
    "        if Bx[site] != 0:\n",
    "            sig = np.copy(sigmap)\n",
    "            sig[site]=np.abs(1-sig[site])\n",
    "            matrix_elements.append(-Bx[site])\n",
    "            sigmas.append(sig)    \n",
    "\n",
    "    return np.array(sigmas),np.array(matrix_elements)\n",
    "\n",
    "def ED_1DTFIM(N=10, h = 1):\n",
    "  \"\"\"\n",
    "  Returns a tuple (eta,U)\n",
    "    eta = a list of energy eigenvalues.\n",
    "    U = a list of energy eigenvectors\n",
    "  \"\"\"\n",
    "  Jz=+np.ones(N)\n",
    "  Bx=+h*np.ones(N)\n",
    "\n",
    "  basis = []\n",
    "  #Generate a z-basis\n",
    "  #all possible combinations of 1 and 0 of N spins\n",
    "  #they are 2^N, and are the binary representetion of numbers from 0 to 2^N -1\n",
    "\n",
    "  for i in range(2**N):\n",
    "      basis_temp = np.zeros((N))\n",
    "      a = np.array([int(d) for d in bin(i)[2:]])  #(bin is 0b and then the number. Get rid of first 2 chars)\n",
    "      l = len(a)\n",
    "      basis_temp[N-l:] = a #put zeros to fill up to N placese (e.g. 2 is 01, so we miss N-2 spins)\n",
    "      \n",
    "      basis.append(basis_temp)\n",
    "  basis = np.array(basis)\n",
    "      \n",
    "  H=np.zeros((basis.shape[0],basis.shape[0])) #prepare the hamiltonian\n",
    "  for n in range(basis.shape[0]):\n",
    "      sigmas,elements=IsingMatrixElements(Jz,Bx,basis[n])\n",
    "      for m in range(sigmas.shape[0]):\n",
    "          for b in range(basis.shape[0]):\n",
    "              if np.all(basis[b,:]==sigmas[m,:]):\n",
    "                  H[n,b]=elements[m]\n",
    "                  break\n",
    "  eta,U=np.linalg.eigh(H) #diagonalize\n",
    "  return eta,U\n"
   ]
  },
  {
   "cell_type": "markdown",
   "metadata": {
    "colab_type": "text",
    "id": "S7ZohOddPLWS"
   },
   "source": [
    "It may take some time to do exact diagonalization. You can try up to $N=12$ spins otherwise you have to wait for a very long time."
   ]
  },
  {
   "cell_type": "code",
   "execution_count": 4,
   "metadata": {
    "colab": {
     "base_uri": "https://localhost:8080/",
     "height": 55
    },
    "colab_type": "code",
    "executionInfo": {
     "elapsed": 26093,
     "status": "ok",
     "timestamp": 1581260415432,
     "user": {
      "displayName": "Mohamed Hibat Allah",
      "photoUrl": "https://lh4.googleusercontent.com/-NN_4cqAjH6U/AAAAAAAAAAI/AAAAAAAAA5s/M6vFCZPEjP0/s64/photo.jpg",
      "userId": "11447742370504927382"
     },
     "user_tz": 300
    },
    "id": "FrXZBzMcjGc6",
    "outputId": "8c90315c-0462-4438-d5c7-bd10a6fe817c"
   },
   "outputs": [
    {
     "name": "stdout",
     "output_type": "stream",
     "text": [
      "The ground state energy is:\n",
      "-12.381489999654749\n"
     ]
    }
   ],
   "source": [
    "eta, U = ED_1DTFIM(N=10, h = 1)\n",
    "\n",
    "print('The ground state energy is:')\n",
    "print(min(eta))\n",
    "E_exact = min(eta)"
   ]
  },
  {
   "cell_type": "markdown",
   "metadata": {
    "colab_type": "text",
    "id": "3xmDq6XVlrVh"
   },
   "source": [
    "## **Representing the ground state**"
   ]
  },
  {
   "cell_type": "markdown",
   "metadata": {
    "colab_type": "text",
    "id": "ZZf0mWkBa72x"
   },
   "source": [
    "Sometimes it is useful to represent the ground state in a plot as shown below, to know some information about the properties of the ground state, such as symmetries, sign of the amplitudes,..."
   ]
  },
  {
   "cell_type": "code",
   "execution_count": 0,
   "metadata": {
    "colab": {
     "base_uri": "https://localhost:8080/",
     "height": 411
    },
    "colab_type": "code",
    "executionInfo": {
     "elapsed": 26081,
     "status": "ok",
     "timestamp": 1581260415438,
     "user": {
      "displayName": "Mohamed Hibat Allah",
      "photoUrl": "https://lh4.googleusercontent.com/-NN_4cqAjH6U/AAAAAAAAAAI/AAAAAAAAA5s/M6vFCZPEjP0/s64/photo.jpg",
      "userId": "11447742370504927382"
     },
     "user_tz": 300
    },
    "id": "eoZ1mC7llQtS",
    "outputId": "cc3c8052-a72a-4f57-c780-68c865c2ec02"
   },
   "outputs": [
    {
     "data": {
      "image/png": "[encoded data removed]",
      "text/plain": [
       "<Figure size 720x432 with 1 Axes>"
      ]
     },
     "metadata": {
      "tags": []
     },
     "output_type": "display_data"
    }
   ],
   "source": [
    "fig, ax = plt.subplots(figsize=(10,6))\n",
    "\n",
    "ground_state = -U[:,np.nonzero(eta==np.min(eta))[0][0]]\n",
    "\n",
    "plt.plot(ground_state,label=\"Ground state\")\n",
    "\n",
    "ax.set_xlabel(r'Basis index', fontsize = 25)\n",
    "ax.set_ylabel('Amplitude', fontsize = 25)\n",
    "\n",
    "plt.show()"
   ]
  },
  {
   "cell_type": "markdown",
   "metadata": {
    "colab_type": "text",
    "id": "7wj7-yrgbh3s"
   },
   "source": [
    "We notice here that the amplitudes of the ground state in the z-basis do not change sign, hence we can use a positive recurrent neural network wavefunction (pRNN wavefunction)."
   ]
  },
  {
   "cell_type": "markdown",
   "metadata": {
    "colab_type": "text",
    "id": "p__YUOmUiuES"
   },
   "source": [
    "## **Calculating the ground state energy using an RNN wavefunction**"
   ]
  },
  {
   "cell_type": "markdown",
   "metadata": {
    "colab_type": "text",
    "id": "saskRC4Ob1rI"
   },
   "source": [
    "After that we obtained the ground state energy from exact diagonalization, we are going to value as a reference to assess the quality of the variational energy calculated by the pRNN wavefunction"
   ]
  },
  {
   "cell_type": "code",
   "execution_count": 0,
   "metadata": {
    "colab": {
     "base_uri": "https://localhost:8080/",
     "height": 1000
    },
    "colab_type": "code",
    "executionInfo": {
     "elapsed": 15478,
     "status": "ok",
     "timestamp": 1581260763138,
     "user": {
      "displayName": "Mohamed Hibat Allah",
      "photoUrl": "https://lh4.googleusercontent.com/-NN_4cqAjH6U/AAAAAAAAAAI/AAAAAAAAA5s/M6vFCZPEjP0/s64/photo.jpg",
      "userId": "11447742370504927382"
     },
     "user_tz": 300
    },
    "id": "t65l5kn5XjNa",
    "outputId": "062bf103-10e9-45a7-ffbb-7d32c9bcee26"
   },
   "outputs": [
    {
     "name": "stdout",
     "output_type": "stream",
     "text": [
      "The number of variational parameters of the pRNN wavefunction is 422\n",
      "\n",
      "\n",
      "mean(E): -9.899331220975746, var(E): 9.654476094188208, #samples 200, #Step 0 \n",
      "\n",
      "\n",
      "mean(E): -10.588295933094894, var(E): 6.791601049571212, #samples 200, #Step 10 \n",
      "\n",
      "\n",
      "mean(E): -11.308381077623483, var(E): 3.7705650947029623, #samples 200, #Step 20 \n",
      "\n",
      "\n",
      "mean(E): -11.77833035700152, var(E): 1.8443101161151372, #samples 200, #Step 30 \n",
      "\n",
      "\n",
      "mean(E): -11.83521451414994, var(E): 1.0315675928581793, #samples 200, #Step 40 \n",
      "\n",
      "\n",
      "mean(E): -11.855886625327708, var(E): 1.1139435449774417, #samples 200, #Step 50 \n",
      "\n",
      "\n",
      "mean(E): -12.048212244109145, var(E): 0.9111520103244755, #samples 200, #Step 60 \n",
      "\n",
      "\n",
      "mean(E): -12.178347486041012, var(E): 0.43777386332315715, #samples 200, #Step 70 \n",
      "\n",
      "\n",
      "mean(E): -12.198066877181347, var(E): 0.23696837877114477, #samples 200, #Step 80 \n",
      "\n",
      "\n",
      "mean(E): -12.27313570286033, var(E): 0.323460117948143, #samples 200, #Step 90 \n",
      "\n",
      "\n",
      "mean(E): -12.266153675537653, var(E): 0.23543409187599212, #samples 200, #Step 100 \n",
      "\n",
      "\n",
      "mean(E): -12.314656477110269, var(E): 0.15508162790735627, #samples 200, #Step 110 \n",
      "\n",
      "\n",
      "mean(E): -12.31047273504741, var(E): 0.16923563765810803, #samples 200, #Step 120 \n",
      "\n",
      "\n",
      "mean(E): -12.330835990713332, var(E): 0.13652986006752907, #samples 200, #Step 130 \n",
      "\n",
      "\n",
      "mean(E): -12.32400895232039, var(E): 0.11892341581273178, #samples 200, #Step 140 \n",
      "\n",
      "\n",
      "mean(E): -12.339010803748971, var(E): 0.12212028398717212, #samples 200, #Step 150 \n",
      "\n",
      "\n",
      "mean(E): -12.35968863704752, var(E): 0.08847339521939379, #samples 200, #Step 160 \n",
      "\n",
      "\n",
      "mean(E): -12.366378486475796, var(E): 0.0873473212419393, #samples 200, #Step 170 \n",
      "\n",
      "\n",
      "mean(E): -12.376511736898031, var(E): 0.08508850727579655, #samples 200, #Step 180 \n",
      "\n",
      "\n",
      "mean(E): -12.365005919996952, var(E): 0.08376254698364104, #samples 200, #Step 190 \n",
      "\n",
      "\n",
      "mean(E): -12.372356102171638, var(E): 0.06911613326164688, #samples 200, #Step 200 \n",
      "\n",
      "\n",
      "mean(E): -12.36349220899598, var(E): 0.06318856796851682, #samples 200, #Step 210 \n",
      "\n",
      "\n",
      "mean(E): -12.378914972780883, var(E): 0.05800652999584262, #samples 200, #Step 220 \n",
      "\n",
      "\n",
      "mean(E): -12.379823361419708, var(E): 0.04947839731432807, #samples 200, #Step 230 \n",
      "\n",
      "\n",
      "mean(E): -12.342047066896477, var(E): 0.054767038687512974, #samples 200, #Step 240 \n",
      "\n",
      "\n",
      "mean(E): -12.347785227965755, var(E): 0.049779219764684635, #samples 200, #Step 250 \n",
      "\n",
      "\n",
      "mean(E): -12.35359951710768, var(E): 0.05074718901161288, #samples 200, #Step 260 \n",
      "\n",
      "\n",
      "mean(E): -12.38994197227877, var(E): 0.057466347276248976, #samples 200, #Step 270 \n",
      "\n",
      "\n",
      "mean(E): -12.366240649328399, var(E): 0.050097366221801796, #samples 200, #Step 280 \n",
      "\n",
      "\n",
      "mean(E): -12.37950744644043, var(E): 0.05062066380605094, #samples 200, #Step 290 \n",
      "\n",
      "\n",
      "mean(E): -12.356126429514001, var(E): 0.044440977024061606, #samples 200, #Step 300 \n",
      "\n",
      "\n",
      "mean(E): -12.36947447204996, var(E): 0.03801120172167233, #samples 200, #Step 310 \n",
      "\n",
      "\n",
      "mean(E): -12.366036340845945, var(E): 0.0370192294707091, #samples 200, #Step 320 \n",
      "\n",
      "\n",
      "mean(E): -12.3578803109316, var(E): 0.03667666114895175, #samples 200, #Step 330 \n",
      "\n",
      "\n",
      "mean(E): -12.37196578697118, var(E): 0.029909210518237205, #samples 200, #Step 340 \n",
      "\n",
      "\n",
      "mean(E): -12.376370496012406, var(E): 0.0298489254616424, #samples 200, #Step 350 \n",
      "\n",
      "\n",
      "mean(E): -12.353979801353608, var(E): 0.02709049088436559, #samples 200, #Step 360 \n",
      "\n",
      "\n",
      "mean(E): -12.36802305656605, var(E): 0.028137611460988782, #samples 200, #Step 370 \n",
      "\n",
      "\n",
      "mean(E): -12.372398573997208, var(E): 0.031402632734159386, #samples 200, #Step 380 \n",
      "\n",
      "\n",
      "mean(E): -12.383812944020551, var(E): 0.026064723310465335, #samples 200, #Step 390 \n",
      "\n",
      "\n",
      "mean(E): -12.355846953241077, var(E): 0.027474654469449033, #samples 200, #Step 400 \n",
      "\n",
      "\n",
      "mean(E): -12.377008494704445, var(E): 0.02705754359777397, #samples 200, #Step 410 \n",
      "\n",
      "\n",
      "mean(E): -12.37417715662464, var(E): 0.023508379122905643, #samples 200, #Step 420 \n",
      "\n",
      "\n",
      "mean(E): -12.38607391209006, var(E): 0.02402906963644846, #samples 200, #Step 430 \n",
      "\n",
      "\n",
      "mean(E): -12.387318575800236, var(E): 0.030156539606200156, #samples 200, #Step 440 \n",
      "\n",
      "\n",
      "mean(E): -12.376149876268665, var(E): 0.020392318222319128, #samples 200, #Step 450 \n",
      "\n",
      "\n",
      "mean(E): -12.377096723149775, var(E): 0.020145726265020807, #samples 200, #Step 460 \n",
      "\n",
      "\n",
      "mean(E): -12.38912150532341, var(E): 0.02355989727111524, #samples 200, #Step 470 \n",
      "\n",
      "\n",
      "mean(E): -12.361983796736636, var(E): 0.02387110886077697, #samples 200, #Step 480 \n",
      "\n",
      "\n",
      "mean(E): -12.385082289820248, var(E): 0.022151716975220722, #samples 200, #Step 490 \n",
      "\n",
      "\n",
      "mean(E): -12.391468168508228, var(E): 0.02339368952414346, #samples 200, #Step 500 \n",
      "\n",
      "\n",
      "mean(E): -12.372559304046773, var(E): 0.018756675419480753, #samples 200, #Step 510 \n",
      "\n",
      "\n",
      "mean(E): -12.380306744737082, var(E): 0.01836266442494783, #samples 200, #Step 520 \n",
      "\n",
      "\n",
      "mean(E): -12.386972790348675, var(E): 0.017297195173533248, #samples 200, #Step 530 \n",
      "\n",
      "\n",
      "mean(E): -12.371155437910607, var(E): 0.020063439415510385, #samples 200, #Step 540 \n",
      "\n",
      "\n",
      "mean(E): -12.379138055455577, var(E): 0.019278416119412743, #samples 200, #Step 550 \n",
      "\n",
      "\n",
      "mean(E): -12.379174181356975, var(E): 0.013792802333824596, #samples 200, #Step 560 \n",
      "\n",
      "\n",
      "mean(E): -12.38158792641468, var(E): 0.017340093975324936, #samples 200, #Step 570 \n",
      "\n",
      "\n",
      "mean(E): -12.363106181649982, var(E): 0.010771807903677941, #samples 200, #Step 580 \n",
      "\n",
      "\n",
      "mean(E): -12.370497006830355, var(E): 0.01369182713480669, #samples 200, #Step 590 \n",
      "\n",
      "\n",
      "mean(E): -12.37180591392453, var(E): 0.013967567806731083, #samples 200, #Step 600 \n",
      "\n",
      "\n",
      "mean(E): -12.393869939624738, var(E): 0.014548792281194562, #samples 200, #Step 610 \n",
      "\n",
      "\n",
      "mean(E): -12.38705558360868, var(E): 0.012292856336257551, #samples 200, #Step 620 \n",
      "\n",
      "\n",
      "mean(E): -12.385174730030526, var(E): 0.01388737427134171, #samples 200, #Step 630 \n",
      "\n",
      "\n",
      "mean(E): -12.385839190270675, var(E): 0.010991134038323186, #samples 200, #Step 640 \n",
      "\n",
      "\n",
      "mean(E): -12.377913782171778, var(E): 0.011156384306216264, #samples 200, #Step 650 \n",
      "\n",
      "\n",
      "mean(E): -12.382551643351876, var(E): 0.012788170852427554, #samples 200, #Step 660 \n",
      "\n",
      "\n",
      "mean(E): -12.368532170019325, var(E): 0.012367813014287538, #samples 200, #Step 670 \n",
      "\n",
      "\n",
      "mean(E): -12.38582611465351, var(E): 0.015489534300195578, #samples 200, #Step 680 \n",
      "\n",
      "\n",
      "mean(E): -12.377498643680378, var(E): 0.012794783668034122, #samples 200, #Step 690 \n",
      "\n",
      "\n",
      "mean(E): -12.368166629479814, var(E): 0.011079842816349373, #samples 200, #Step 700 \n",
      "\n",
      "\n",
      "mean(E): -12.367590832434546, var(E): 0.009540008087049547, #samples 200, #Step 710 \n",
      "\n",
      "\n",
      "mean(E): -12.366911956861014, var(E): 0.009167213927000257, #samples 200, #Step 720 \n",
      "\n",
      "\n",
      "mean(E): -12.387222077756851, var(E): 0.01007275322057704, #samples 200, #Step 730 \n",
      "\n",
      "\n",
      "mean(E): -12.386143033600037, var(E): 0.012594371251908165, #samples 200, #Step 740 \n",
      "\n",
      "\n",
      "mean(E): -12.382972722298483, var(E): 0.012010284549707121, #samples 200, #Step 750 \n",
      "\n",
      "\n",
      "mean(E): -12.379197811049435, var(E): 0.01124475568402242, #samples 200, #Step 760 \n",
      "\n",
      "\n",
      "mean(E): -12.374078169561349, var(E): 0.009459894785138163, #samples 200, #Step 770 \n",
      "\n",
      "\n",
      "mean(E): -12.388913693119221, var(E): 0.011176407239162441, #samples 200, #Step 780 \n",
      "\n",
      "\n",
      "mean(E): -12.386736226653476, var(E): 0.010361339616937876, #samples 200, #Step 790 \n",
      "\n",
      "\n",
      "mean(E): -12.370454172706605, var(E): 0.009156876575927907, #samples 200, #Step 800 \n",
      "\n",
      "\n",
      "mean(E): -12.378456554924012, var(E): 0.008324560681832655, #samples 200, #Step 810 \n",
      "\n",
      "\n",
      "mean(E): -12.385357110312272, var(E): 0.011614715903044994, #samples 200, #Step 820 \n",
      "\n",
      "\n",
      "mean(E): -12.379171512486586, var(E): 0.008350108449076608, #samples 200, #Step 830 \n",
      "\n",
      "\n",
      "mean(E): -12.368274459749264, var(E): 0.008286317228927116, #samples 200, #Step 840 \n",
      "\n",
      "\n",
      "mean(E): -12.371782799941652, var(E): 0.007741551038057328, #samples 200, #Step 850 \n",
      "\n",
      "\n",
      "mean(E): -12.385996559203786, var(E): 0.009148666410182242, #samples 200, #Step 860 \n",
      "\n",
      "\n",
      "mean(E): -12.378382326976519, var(E): 0.010174893198863942, #samples 200, #Step 870 \n",
      "\n",
      "\n",
      "mean(E): -12.382978491949146, var(E): 0.00970243787670735, #samples 200, #Step 880 \n",
      "\n",
      "\n",
      "mean(E): -12.372876975253957, var(E): 0.008936498555256689, #samples 200, #Step 890 \n",
      "\n",
      "\n",
      "mean(E): -12.379831858833429, var(E): 0.00892628604200763, #samples 200, #Step 900 \n",
      "\n",
      "\n",
      "mean(E): -12.374300543992769, var(E): 0.00684857648380836, #samples 200, #Step 910 \n",
      "\n",
      "\n",
      "mean(E): -12.371241082645682, var(E): 0.005532847873324816, #samples 200, #Step 920 \n",
      "\n",
      "\n",
      "mean(E): -12.384283696847506, var(E): 0.007263695189843287, #samples 200, #Step 930 \n",
      "\n",
      "\n",
      "mean(E): -12.396216324066158, var(E): 0.00923280568943162, #samples 200, #Step 940 \n",
      "\n",
      "\n",
      "mean(E): -12.379571108385903, var(E): 0.007903531226362314, #samples 200, #Step 950 \n",
      "\n",
      "\n",
      "mean(E): -12.377060549754184, var(E): 0.008597510379605296, #samples 200, #Step 960 \n",
      "\n",
      "\n",
      "mean(E): -12.36998363139779, var(E): 0.0068474719088953305, #samples 200, #Step 970 \n",
      "\n",
      "\n",
      "mean(E): -12.385016347321875, var(E): 0.008067679463004263, #samples 200, #Step 980 \n",
      "\n",
      "\n",
      "mean(E): -12.38926157601034, var(E): 0.008059704448169497, #samples 200, #Step 990 \n",
      "\n",
      "\n",
      "mean(E): -12.378679359094908, var(E): 0.006572952011442706, #samples 200, #Step 1000 \n",
      "\n",
      "\n"
     ]
    }
   ],
   "source": [
    "from TrainingRNN_1DTFIM import run_1DTFIM\n",
    "\n",
    "#numsteps = number of training iterations\n",
    "#systemsize = number of physical spins\n",
    "#Bx = transverse magnetic field\n",
    "#numsamples = number of samples used for training\n",
    "numsamples = 200\n",
    "#num_units = number of memory units of the hidden state of the RNN\n",
    "#num_layers = number of vertically stacked RNN cells\n",
    "\n",
    "#This function trains a pRNN wavefunction for 1DTFIM with the corresponding hyperparams\n",
    "RNNEnergy, varRNNEnergy = run_1DTFIM(numsteps = 1000, systemsize = 10, Bx = +1, num_units = 10,  num_layers = 1, numsamples = numsamples, learningrate = 5e-3, seed = 111)\n",
    "\n",
    "#RNNEnergy is a numpy array of the variational energy of the pRNN wavefunction\n",
    "#varRNNEnergy is a numpy array of the variance of the variational energy of the pRNN wavefunction"
   ]
  },
  {
   "cell_type": "markdown",
   "metadata": {
    "colab_type": "text",
    "id": "peYQlfmihIW-"
   },
   "source": [
    "## **Comparison of RNN results with ED**"
   ]
  },
  {
   "cell_type": "markdown",
   "metadata": {
    "colab_type": "text",
    "id": "hXamMx9PclH1"
   },
   "source": [
    "After we got the variational energies for each time step, we can now compare the RNN results with exact diagonalization"
   ]
  },
  {
   "cell_type": "code",
   "execution_count": 0,
   "metadata": {
    "colab": {
     "base_uri": "https://localhost:8080/",
     "height": 55
    },
    "colab_type": "code",
    "executionInfo": {
     "elapsed": 877,
     "status": "ok",
     "timestamp": 1581260770335,
     "user": {
      "displayName": "Mohamed Hibat Allah",
      "photoUrl": "https://lh4.googleusercontent.com/-NN_4cqAjH6U/AAAAAAAAAAI/AAAAAAAAA5s/M6vFCZPEjP0/s64/photo.jpg",
      "userId": "11447742370504927382"
     },
     "user_tz": 300
    },
    "id": "1mbmXNmgdIQP",
    "outputId": "f3eb211f-dd70-4c6f-9249-3d71a36718b1"
   },
   "outputs": [
    {
     "name": "stdout",
     "output_type": "stream",
     "text": [
      "Ground state energy =  -12.38083759458178 +- 0.0007350316298291748\n",
      "Exact ground state energy =  -12.38148999965476\n"
     ]
    }
   ],
   "source": [
    "#Computing the ground state energy by taking average over the last 100 iterations\n",
    "print(\"Ground state energy = \", np.mean(RNNEnergy[-100:]), \"+-\", np.sqrt(np.max(varRNNEnergy[-100:])/(numsamples*100))) #We use np.max(varRNNEnergy[-100:]) to estimate an upper bound on the error\n",
    "print(\"Exact ground state energy = \", E_exact)"
   ]
  },
  {
   "cell_type": "markdown",
   "metadata": {
    "colab_type": "text",
    "id": "2Z_9__WGeOHU"
   },
   "source": [
    "Amazing! We can also plot the variational energy and the energy variance where we observe convergence during the last iterations."
   ]
  },
  {
   "cell_type": "code",
   "execution_count": 0,
   "metadata": {
    "colab": {
     "base_uri": "https://localhost:8080/",
     "height": 411
    },
    "colab_type": "code",
    "executionInfo": {
     "elapsed": 1300,
     "status": "ok",
     "timestamp": 1581260778334,
     "user": {
      "displayName": "Mohamed Hibat Allah",
      "photoUrl": "https://lh4.googleusercontent.com/-NN_4cqAjH6U/AAAAAAAAAAI/AAAAAAAAA5s/M6vFCZPEjP0/s64/photo.jpg",
      "userId": "11447742370504927382"
     },
     "user_tz": 300
    },
    "id": "S6U81Z0rhHaH",
    "outputId": "b3d58e0e-26f2-4568-e65c-78b5bf39a9bf"
   },
   "outputs": [
    {
     "data": {
      "image/png": "[encoded data removed]",
      "text/plain": [
       "<Figure size 720x432 with 1 Axes>"
      ]
     },
     "metadata": {
      "tags": []
     },
     "output_type": "display_data"
    }
   ],
   "source": [
    "fig, ax = plt.subplots(figsize=(10,6))\n",
    "\n",
    "ax.plot(np.arange(1, len(RNNEnergy)+1), RNNEnergy, \"b-\", label=\"Variational energy of the RNN\")\n",
    "ax.plot(np.arange(1, len(RNNEnergy)+1), [E_exact]*len(RNNEnergy), \"k--\", label=\"Exact energy\")\n",
    "\n",
    "ax.set_xlabel(r'Training step', fontsize = 25)\n",
    "ax.set_ylabel('Variational energy', fontsize = 25)\n",
    "plt.legend()\n",
    "\n",
    "plt.show()"
   ]
  },
  {
   "cell_type": "markdown",
   "metadata": {
    "colab_type": "text",
    "id": "48mlVcvhkXAA"
   },
   "source": [
    "### **Energy variance**"
   ]
  },
  {
   "cell_type": "code",
   "execution_count": 0,
   "metadata": {
    "colab": {
     "base_uri": "https://localhost:8080/",
     "height": 411
    },
    "colab_type": "code",
    "executionInfo": {
     "elapsed": 1248,
     "status": "ok",
     "timestamp": 1581260786035,
     "user": {
      "displayName": "Mohamed Hibat Allah",
      "photoUrl": "https://lh4.googleusercontent.com/-NN_4cqAjH6U/AAAAAAAAAAI/AAAAAAAAA5s/M6vFCZPEjP0/s64/photo.jpg",
      "userId": "11447742370504927382"
     },
     "user_tz": 300
    },
    "id": "mdFR_2yHj05j",
    "outputId": "2a55d20b-bbc1-4bb0-bbde-ae652bbbeca7"
   },
   "outputs": [
    {
     "data": {
      "image/png": "[encoded data removed]",
      "text/plain": [
       "<Figure size 720x432 with 1 Axes>"
      ]
     },
     "metadata": {
      "tags": []
     },
     "output_type": "display_data"
    }
   ],
   "source": [
    "fig, ax = plt.subplots(figsize=(10,6))\n",
    "\n",
    "ax.semilogy(np.arange(1, len(RNNEnergy)+1), varRNNEnergy, \"b-\", label=\"Energy variance of the RNN\")\n",
    "\n",
    "ax.set_xlabel(r'Training step', fontsize = 25)\n",
    "ax.set_ylabel('Energy variance', fontsize = 25)\n",
    "plt.legend()\n",
    "\n",
    "plt.show()"
   ]
  },
  {
   "cell_type": "markdown",
   "metadata": {
    "colab_type": "text",
    "id": "cvav7t7Efi7O"
   },
   "source": [
    "## **Explorations**"
   ]
  },
  {
   "cell_type": "markdown",
   "metadata": {
    "colab_type": "text",
    "id": "rlcpx-jqfniT"
   },
   "source": [
    "- If you want to explore large system sizes with the pRNN wavefunction, here are some ground states energy of 1DTFIM at the critical point (Bx = 1) given by DMRG and can be considered exact:\n",
    "\n",
    "\n",
    "> N=20 : -25.1077971081\n",
    "\n",
    "> N=30 : -37.8380982304\n",
    "\n",
    "> N=40 : -50.5694337844\n",
    "\n",
    "> N=50 : -63.3011891370\n",
    "\n",
    "> N=60 : -76.0331561023\n",
    "\n",
    "> N=70 : -88.7652446334\n",
    "\n",
    "> N=80 : -101.4974094169\n",
    "\n",
    "> N=90 : -114.2296251736\n",
    "\n",
    "> N=100 : -126.9618766964\n",
    "\n",
    "> N=1000 : -1272.8762945220\n",
    "\n",
    "- You can also play with the hyperparameters (memory units, number of layers, number of samples, learning rate) to obtain better accuracies.\n",
    "\n",
    " "
   ]
  }
 ],
 "metadata": {
  "accelerator": "GPU",
  "colab": {
   "authorship_tag": "ABX9TyPnQCOwHT5nFwFq7zbNCtac",
   "collapsed_sections": [],
   "name": "Tutorial_1DTFIM.ipynb",
   "provenance": []
  },
  "kernelspec": {
   "display_name": "Python 3",
   "language": "python",
   "name": "python3"
  },
  "language_info": {
   "codemirror_mode": {
    "name": "ipython",
    "version": 3
   },
   "file_extension": ".py",
   "mimetype": "text/x-python",
   "name": "python",
   "nbconvert_exporter": "python",
   "pygments_lexer": "ipython3",
   "version": "3.8.5"
  }
 },
 "nbformat": 4,
 "nbformat_minor": 1
}
